{
 "cells": [
  {
   "cell_type": "markdown",
   "id": "acf96f28",
   "metadata": {},
   "source": [
    "# Real-time Workload for Scylla\n",
    "Web Sales | Web Returns | Store Sales | Store Returns | Catalog Sales"
   ]
  },
  {
   "cell_type": "markdown",
   "id": "92ef40ee",
   "metadata": {},
   "source": [
    "## Installing NoSQLBench "
   ]
  },
  {
   "cell_type": "markdown",
   "id": "2debed4f",
   "metadata": {},
   "source": [
    "Download:"
   ]
  },
  {
   "cell_type": "code",
   "execution_count": 1,
   "id": "6d753c0d",
   "metadata": {},
   "outputs": [
    {
     "name": "stdout",
     "output_type": "stream",
     "text": [
      "  % Total    % Received % Xferd  Average Speed   Time    Time     Time  Current\n",
      "                                 Dload  Upload   Total   Spent    Left  Speed\n",
      "100   146  100   146    0     0    346      0 --:--:-- --:--:-- --:--:--   345\n",
      "100   641  100   641    0     0    989      0 --:--:-- --:--:-- --:--:--   989\n",
      "100  218M  100  218M    0     0  21.1M      0  0:00:10  0:00:10 --:--:-- 24.4M\n"
     ]
    }
   ],
   "source": [
    "!curl -L -O https://github.com/nosqlbench/nosqlbench/releases/latest/download/nb\n",
    "!chmod +x nb"
   ]
  },
  {
   "cell_type": "markdown",
   "id": "7ac956aa",
   "metadata": {},
   "source": [
    "## Creating Workload Yaml based on template"
   ]
  },
  {
   "cell_type": "markdown",
   "id": "578943c4",
   "metadata": {},
   "source": [
    "Importing stuff and starting Spark Context:"
   ]
  },
  {
   "cell_type": "code",
   "execution_count": 3,
   "id": "a909a8d2",
   "metadata": {},
   "outputs": [],
   "source": [
    "from cassandra.cluster import Cluster, ExecutionProfile, EXEC_PROFILE_DEFAULT\n",
    "from cassandra.policies import DCAwareRoundRobinPolicy, TokenAwarePolicy, DowngradingConsistencyRetryPolicy, ConsistencyLevel, RoundRobinPolicy\n",
    "from cassandra.query import tuple_factory\n",
    "from pyspark.conf import SparkConf\n",
    "from pyspark.sql import SparkSession, SQLContext\n",
    "from pyspark import SparkContext\n",
    "from pyspark.sql import functions as F\n",
    "from pyspark.sql.types import StructType,StructField, StringType, IntegerType, FloatType, DateType, LongType\n",
    "\n",
    "## Starting Spark\n",
    "spark = SparkSession\\\n",
    "    .builder\\\n",
    "    .appName(\"TPCDS-Scylla\")\\\n",
    "    .config(\"setMaster\",\"172.19.0.2\")\\\n",
    "    .config(\"spark.jars\", \"target/scala-2.12/spark3-scylla4-example-assembly-0.1.jar\")\\\n",
    "    .config(\"spark.cassandra.connection.host\", \"172.19.0.2\")\\\n",
    "    .config('spark.cassandra.output.consistency.level','LOCAL_QUORUM')\\\n",
    "    .config(\"spark.driver.memory\", \"28g\")\\\n",
    "    .config(\"spark.executor.memory\", \"28g\")\\\n",
    "    .getOrCreate()\n",
    "sc = spark.sparkContext\n",
    "## Start SQL Context, it will enable you to run SQL Queries\n",
    "sqlContext = SQLContext(spark)"
   ]
  },
  {
   "cell_type": "markdown",
   "id": "52d9c3d6",
   "metadata": {},
   "source": [
    "#### Creating Spark Tables based on ScyllaDB"
   ]
  },
  {
   "cell_type": "code",
   "execution_count": 11,
   "id": "1bb0317a",
   "metadata": {},
   "outputs": [],
   "source": [
    "call_center = spark.read.format(\"org.apache.spark.sql.cassandra\").options(table=\"call_center\", keyspace=\"tpcds\").load()\n",
    "call_center.registerTempTable(\"call_center\")\n",
    "catalog_page = spark.read.format(\"org.apache.spark.sql.cassandra\").options(table=\"catalog_page\", keyspace=\"tpcds\").load()\n",
    "catalog_page.registerTempTable(\"catalog_page\")\n",
    "\n",
    "customer = spark.read.format(\"org.apache.spark.sql.cassandra\").options(table=\"customer\", keyspace=\"tpcds\").load()\n",
    "customer.registerTempTable(\"customer\")\n",
    "customer_address = spark.read.format(\"org.apache.spark.sql.cassandra\").options(table=\"customer_address\", keyspace=\"tpcds\").load()\n",
    "customer_address.registerTempTable(\"customer_address\")\n",
    "customer_demographics = spark.read.format(\"org.apache.spark.sql.cassandra\").options(table=\"customer_demographics\", keyspace=\"tpcds\").load()\n",
    "customer_demographics.registerTempTable(\"customer_demographics\")\n",
    "date_dim = spark.read.format(\"org.apache.spark.sql.cassandra\").options(table=\"date_dim\", keyspace=\"tpcds\").load()\n",
    "date_dim.registerTempTable(\"date_dim\")\n",
    "household_demographics = spark.read.format(\"org.apache.spark.sql.cassandra\").options(table=\"household_demographics\", keyspace=\"tpcds\").load()\n",
    "household_demographics.registerTempTable(\"household_demographics\")\n",
    "income_band = spark.read.format(\"org.apache.spark.sql.cassandra\").options(table=\"income_band\", keyspace=\"tpcds\").load()\n",
    "income_band.registerTempTable(\"income_band\")\n",
    "inventory = spark.read.format(\"org.apache.spark.sql.cassandra\").options(table=\"inventory\", keyspace=\"tpcds\").load()\n",
    "inventory.registerTempTable(\"inventory\")\n",
    "item = spark.read.format(\"org.apache.spark.sql.cassandra\").options(table=\"item\", keyspace=\"tpcds\").load()\n",
    "item.registerTempTable(\"item\")\n",
    "promotion = spark.read.format(\"org.apache.spark.sql.cassandra\").options(table=\"promotion\", keyspace=\"tpcds\").load()\n",
    "promotion.registerTempTable(\"promotion\")\n",
    "reason = spark.read.format(\"org.apache.spark.sql.cassandra\").options(table=\"reason\", keyspace=\"tpcds\").load()\n",
    "reason.registerTempTable(\"reason\")\n",
    "ship_mode = spark.read.format(\"org.apache.spark.sql.cassandra\").options(table=\"ship_mode\", keyspace=\"tpcds\").load()\n",
    "ship_mode.registerTempTable(\"ship_mode\")\n",
    "store = spark.read.format(\"org.apache.spark.sql.cassandra\").options(table=\"store\", keyspace=\"tpcds\").load()\n",
    "store.registerTempTable(\"store\")\n",
    "\n",
    "time_dim = spark.read.format(\"org.apache.spark.sql.cassandra\").options(table=\"time_dim\", keyspace=\"tpcds\").load()\n",
    "time_dim.registerTempTable(\"time_dim\")\n",
    "warehouse = spark.read.format(\"org.apache.spark.sql.cassandra\").options(table=\"warehouse\", keyspace=\"tpcds\").load()\n",
    "warehouse.registerTempTable(\"warehouse\")\n",
    "web_page = spark.read.format(\"org.apache.spark.sql.cassandra\").options(table=\"web_page\", keyspace=\"tpcds\").load()\n",
    "web_page.registerTempTable(\"web_page\")\n",
    "\n",
    "web_site = spark.read.format(\"org.apache.spark.sql.cassandra\").options(table=\"web_site\", keyspace=\"tpcds\").load()\n",
    "web_site.registerTempTable(\"web_site\")\n",
    "\n"
   ]
  },
  {
   "cell_type": "markdown",
   "id": "fa5a2e9d",
   "metadata": {},
   "source": [
    "#### Creating Workload variables based on dimension tables size already loaded into scyllaDB"
   ]
  },
  {
   "cell_type": "markdown",
   "id": "023d2127",
   "metadata": {},
   "source": [
    "#### Reading template file:"
   ]
  },
  {
   "cell_type": "code",
   "execution_count": 12,
   "id": "b031dc11",
   "metadata": {},
   "outputs": [],
   "source": [
    "import yaml\n",
    "\n",
    "with open(r'workload-nosqlbench.template.yaml') as file:\n",
    "    # The FullLoader parameter handles the conversion from YAML\n",
    "    # scalar values to Python the dictionary format\n",
    "    workload = yaml.load(file, Loader=yaml.FullLoader)\n",
    "    columns = workload[\"bindings\"]\n",
    " \n"
   ]
  },
  {
   "cell_type": "markdown",
   "id": "fae0d905",
   "metadata": {},
   "source": [
    "Since the size of the environment can change, we need to check what are the Max keys that can be used to generate data that it will return data from queries. For this, we will be using Spark to get the MAX of each key."
   ]
  },
  {
   "cell_type": "code",
   "execution_count": 13,
   "id": "c4ebb72a",
   "metadata": {},
   "outputs": [],
   "source": [
    "column_to_get_max=[]\n",
    "variables_values=[]\n",
    "import re\n",
    "for column,val in columns.items():\n",
    "    if column.endswith(\"_sk\"):\n",
    "        column_to_get_max.append([column,val])\n",
    "        #print([column,val])\n",
    "    else:\n",
    "        pass\n",
    " "
   ]
  },
  {
   "cell_type": "markdown",
   "id": "19c204a4",
   "metadata": {},
   "source": [
    "#### Capturing only the keys names from the template file:"
   ]
  },
  {
   "cell_type": "code",
   "execution_count": 14,
   "id": "5cebe91b",
   "metadata": {},
   "outputs": [
    {
     "name": "stdout",
     "output_type": "stream",
     "text": [
      "[['max_item_sk'], ['max_web_page_sk'], ['max_c_address_sk'], ['max_cdemo_sk'], ['max_customer_sk'], ['max_reason_sk'], ['max_warehouse_sk'], ['max_promo_sk'], ['max_web_site_sk'], ['max_store_sk'], ['max_call_center_sk'], ['max_catalog_page_sk']]\n"
     ]
    }
   ],
   "source": [
    "# column_to_get_max \n",
    "full_variables_list = []\n",
    "for column,value in column_to_get_max:\n",
    "    if re.findall('<<(.+?)>>', value):\n",
    "        match = re.findall('<<(.+?)>>', value)\n",
    "        full_variables_list.append(match)\n",
    "        #print(match)\n",
    "    else: \n",
    "        pass\n",
    "variable_list=[]\n",
    "[variable_list.append(x) for x in full_variables_list if x not in variable_list]\n",
    "print(variable_list)"
   ]
  },
  {
   "cell_type": "markdown",
   "id": "e93627d7",
   "metadata": {},
   "source": [
    "Creating relationship between foreign keys, tables and variables\n"
   ]
  },
  {
   "cell_type": "code",
   "execution_count": 15,
   "id": "b5753018",
   "metadata": {},
   "outputs": [],
   "source": [
    "array = [[\"cp_catalog_page_sk\",\"catalog_page\",'max_catalog_page_sk'],[\"cc_call_center_sk\",\"call_center\",\"max_call_center_sk\"],[\"s_store_sk\",\"store\",\"max_store_sk\"],[\"p_promo_sk\",\"promotion\",'max_promo_sk'],[\"r_reason_sk\",\"reason\",'max_reason_sk'],[\"i_item_sk\", \"item\",\"max_item_sk\"],[\"c_customer_sk\",\"customer\",\"max_customer_sk\"],[\"cd_demo_sk\",\"customer_demographics\",\"max_cdemo_sk\"],[\"ca_address_sk\",\"customer_address\",\"max_c_address_sk\"],[\"wp_web_page_sk\",\"web_page\",\"max_web_page_sk\"],[\"web_site_sk\",\"web_site\",\"max_web_site_sk\"],[\"w_warehouse_sk\",\"warehouse\",\"max_warehouse_sk\"]]\n"
   ]
  },
  {
   "cell_type": "markdown",
   "id": "95a521ea",
   "metadata": {},
   "source": [
    " Generating and executing queries and capturing the values"
   ]
  },
  {
   "cell_type": "code",
   "execution_count": 16,
   "id": "6391c8cd",
   "metadata": {},
   "outputs": [
    {
     "name": "stderr",
     "output_type": "stream",
     "text": [
      "                                                                                \r"
     ]
    },
    {
     "name": "stdout",
     "output_type": "stream",
     "text": [
      "select max(cp_catalog_page_sk) as max from catalog_page = 11718-> max_catalog_page_sk\n",
      "\n",
      "result: 11718 | column: cp_catalog_page_sk| variable :max_catalog_page_sk\n",
      "select max(cc_call_center_sk) as max from call_center = 6-> max_call_center_sk\n",
      "\n",
      "result: 6 | column: cc_call_center_sk| variable :max_call_center_sk\n",
      "select max(s_store_sk) as max from store = 12-> max_store_sk\n",
      "\n",
      "result: 12 | column: s_store_sk| variable :max_store_sk\n",
      "select max(p_promo_sk) as max from promotion = 300-> max_promo_sk\n",
      "\n",
      "result: 300 | column: p_promo_sk| variable :max_promo_sk\n",
      "select max(r_reason_sk) as max from reason = 35-> max_reason_sk\n",
      "\n",
      "result: 35 | column: r_reason_sk| variable :max_reason_sk\n",
      "select max(i_item_sk) as max from item = 18000-> max_item_sk\n",
      "\n",
      "result: 18000 | column: i_item_sk| variable :max_item_sk\n"
     ]
    },
    {
     "name": "stderr",
     "output_type": "stream",
     "text": [
      "                                                                                \r"
     ]
    },
    {
     "name": "stdout",
     "output_type": "stream",
     "text": [
      "select max(c_customer_sk) as max from customer = 1920800-> max_customer_sk\n",
      "\n",
      "result: 1920800 | column: c_customer_sk| variable :max_customer_sk\n"
     ]
    },
    {
     "name": "stderr",
     "output_type": "stream",
     "text": [
      "                                                                                \r"
     ]
    },
    {
     "name": "stdout",
     "output_type": "stream",
     "text": [
      "select max(cd_demo_sk) as max from customer_demographics = 1920800-> max_cdemo_sk\n",
      "\n",
      "result: 1920800 | column: cd_demo_sk| variable :max_cdemo_sk\n",
      "select max(ca_address_sk) as max from customer_address = 50000-> max_c_address_sk\n",
      "\n",
      "result: 50000 | column: ca_address_sk| variable :max_c_address_sk\n",
      "select max(wp_web_page_sk) as max from web_page = 60-> max_web_page_sk\n",
      "\n",
      "result: 60 | column: wp_web_page_sk| variable :max_web_page_sk\n",
      "select max(web_site_sk) as max from web_site = 30-> max_web_site_sk\n",
      "\n",
      "result: 30 | column: web_site_sk| variable :max_web_site_sk\n",
      "select max(w_warehouse_sk) as max from warehouse = 5-> max_warehouse_sk\n",
      "\n",
      "result: 5 | column: w_warehouse_sk| variable :max_warehouse_sk\n"
     ]
    }
   ],
   "source": [
    "\n",
    "#['start_date', 'end_date'], [''],  , [''], [''], [''], ['max_call_center_sk'], \n",
    "queries=[]\n",
    "for column, tables,variable in array:\n",
    "    query = 'select max({}) as max from {}'.format(column,tables)\n",
    "    \n",
    "    result = sqlContext.sql(query).collect()[0]\n",
    "    print(query + \" = \" + str(result[0]) + \"-> {}\".format(variable))\n",
    "    print('')\n",
    "    print(\"result: \"+ str(result[0]) + \" | column: \" + column + \"| variable :\" + variable)\n",
    "    queries.append([result[0],column,variable])\n",
    "\n"
   ]
  },
  {
   "cell_type": "markdown",
   "id": "66db8781",
   "metadata": {},
   "source": [
    "Now if that we have values of each variable, we will need to create the file replacing the variables for the values"
   ]
  },
  {
   "cell_type": "code",
   "execution_count": 50,
   "id": "e7c8771e",
   "metadata": {},
   "outputs": [
    {
     "name": "stdout",
     "output_type": "stream",
     "text": [
      "Requirement already satisfied: pandasql in /opt/conda/lib/python3.9/site-packages (0.7.3)\n",
      "Requirement already satisfied: pandas in /opt/conda/lib/python3.9/site-packages (from pandasql) (1.3.4)\n",
      "Requirement already satisfied: sqlalchemy in /opt/conda/lib/python3.9/site-packages (from pandasql) (1.4.25)\n",
      "Requirement already satisfied: numpy in /opt/conda/lib/python3.9/site-packages (from pandasql) (1.20.3)\n",
      "Requirement already satisfied: python-dateutil>=2.7.3 in /opt/conda/lib/python3.9/site-packages (from pandas->pandasql) (2.8.2)\n",
      "Requirement already satisfied: pytz>=2017.3 in /opt/conda/lib/python3.9/site-packages (from pandas->pandasql) (2021.3)\n",
      "Requirement already satisfied: greenlet!=0.4.17 in /opt/conda/lib/python3.9/site-packages (from sqlalchemy->pandasql) (1.1.2)\n",
      "Requirement already satisfied: six>=1.5 in /opt/conda/lib/python3.9/site-packages (from python-dateutil>=2.7.3->pandas->pandasql) (1.16.0)\n"
     ]
    }
   ],
   "source": [
    "! pip3 install pandasql"
   ]
  },
  {
   "cell_type": "code",
   "execution_count": 19,
   "id": "1979177c-0498-48a2-95f3-ce85d6ce98cf",
   "metadata": {},
   "outputs": [
    {
     "name": "stdout",
     "output_type": "stream",
     "text": [
      "Collecting pandasql\n",
      "  Downloading pandasql-0.7.3.tar.gz (26 kB)\n",
      "  Preparing metadata (setup.py) ... \u001b[?25ldone\n",
      "\u001b[?25hRequirement already satisfied: numpy in /opt/conda/lib/python3.9/site-packages (from pandasql) (1.20.3)\n",
      "Requirement already satisfied: pandas in /opt/conda/lib/python3.9/site-packages (from pandasql) (1.3.4)\n",
      "Requirement already satisfied: sqlalchemy in /opt/conda/lib/python3.9/site-packages (from pandasql) (1.4.25)\n",
      "Requirement already satisfied: python-dateutil>=2.7.3 in /opt/conda/lib/python3.9/site-packages (from pandas->pandasql) (2.8.2)\n",
      "Requirement already satisfied: pytz>=2017.3 in /opt/conda/lib/python3.9/site-packages (from pandas->pandasql) (2021.3)\n",
      "Requirement already satisfied: greenlet!=0.4.17 in /opt/conda/lib/python3.9/site-packages (from sqlalchemy->pandasql) (1.1.2)\n",
      "Requirement already satisfied: six>=1.5 in /opt/conda/lib/python3.9/site-packages (from python-dateutil>=2.7.3->pandas->pandasql) (1.16.0)\n",
      "Building wheels for collected packages: pandasql\n",
      "  Building wheel for pandasql (setup.py) ... \u001b[?25ldone\n",
      "\u001b[?25h  Created wheel for pandasql: filename=pandasql-0.7.3-py3-none-any.whl size=26781 sha256=a3c2309ca376386215bb535907c33100d256806746cedf0b976fe5893aed923d\n",
      "  Stored in directory: /home/jovyan/.cache/pip/wheels/63/e8/ec/75b1df467ecf57b6ececb32cb16f4e86697cbfe55cb0c51f07\n",
      "Successfully built pandasql\n",
      "Installing collected packages: pandasql\n",
      "Successfully installed pandasql-0.7.3\n"
     ]
    }
   ],
   "source": [
    "! pip3 install pandasql"
   ]
  },
  {
   "cell_type": "code",
   "execution_count": 20,
   "id": "70f8c717",
   "metadata": {},
   "outputs": [
    {
     "data": {
      "text/html": [
       "<div>\n",
       "<style scoped>\n",
       "    .dataframe tbody tr th:only-of-type {\n",
       "        vertical-align: middle;\n",
       "    }\n",
       "\n",
       "    .dataframe tbody tr th {\n",
       "        vertical-align: top;\n",
       "    }\n",
       "\n",
       "    .dataframe thead th {\n",
       "        text-align: right;\n",
       "    }\n",
       "</style>\n",
       "<table border=\"1\" class=\"dataframe\">\n",
       "  <thead>\n",
       "    <tr style=\"text-align: right;\">\n",
       "      <th></th>\n",
       "      <th>column</th>\n",
       "      <th>value</th>\n",
       "      <th>result</th>\n",
       "    </tr>\n",
       "  </thead>\n",
       "  <tbody>\n",
       "    <tr>\n",
       "      <th>0</th>\n",
       "      <td>cs_catalog_page_sk</td>\n",
       "      <td>Uniform(0,11718)</td>\n",
       "      <td>11718</td>\n",
       "    </tr>\n",
       "    <tr>\n",
       "      <th>1</th>\n",
       "      <td>cs_call_center_sk</td>\n",
       "      <td>Uniform(0,6)</td>\n",
       "      <td>6</td>\n",
       "    </tr>\n",
       "    <tr>\n",
       "      <th>2</th>\n",
       "      <td>sr_store_sk</td>\n",
       "      <td>Uniform(0,12)</td>\n",
       "      <td>12</td>\n",
       "    </tr>\n",
       "    <tr>\n",
       "      <th>3</th>\n",
       "      <td>ss_store_sk</td>\n",
       "      <td>Uniform(0,12)</td>\n",
       "      <td>12</td>\n",
       "    </tr>\n",
       "    <tr>\n",
       "      <th>4</th>\n",
       "      <td>cs_promo_sk</td>\n",
       "      <td>Uniform(0,300)</td>\n",
       "      <td>300</td>\n",
       "    </tr>\n",
       "    <tr>\n",
       "      <th>5</th>\n",
       "      <td>ss_promo_sk</td>\n",
       "      <td>Uniform(0,300)</td>\n",
       "      <td>300</td>\n",
       "    </tr>\n",
       "    <tr>\n",
       "      <th>6</th>\n",
       "      <td>ws_promo_sk</td>\n",
       "      <td>Uniform(0,300)</td>\n",
       "      <td>300</td>\n",
       "    </tr>\n",
       "    <tr>\n",
       "      <th>7</th>\n",
       "      <td>sr_reason_sk</td>\n",
       "      <td>Uniform(0,35)</td>\n",
       "      <td>35</td>\n",
       "    </tr>\n",
       "    <tr>\n",
       "      <th>8</th>\n",
       "      <td>wr_reason_sk</td>\n",
       "      <td>Uniform(0,35)</td>\n",
       "      <td>35</td>\n",
       "    </tr>\n",
       "    <tr>\n",
       "      <th>9</th>\n",
       "      <td>cs_item_sk</td>\n",
       "      <td>Uniform(0,18000)</td>\n",
       "      <td>18000</td>\n",
       "    </tr>\n",
       "    <tr>\n",
       "      <th>10</th>\n",
       "      <td>sr_item_sk</td>\n",
       "      <td>Uniform(0,18000)</td>\n",
       "      <td>18000</td>\n",
       "    </tr>\n",
       "    <tr>\n",
       "      <th>11</th>\n",
       "      <td>ss_item_sk</td>\n",
       "      <td>Uniform(0,18000)</td>\n",
       "      <td>18000</td>\n",
       "    </tr>\n",
       "    <tr>\n",
       "      <th>12</th>\n",
       "      <td>wr_item_sk</td>\n",
       "      <td>Uniform(0,18000)</td>\n",
       "      <td>18000</td>\n",
       "    </tr>\n",
       "    <tr>\n",
       "      <th>13</th>\n",
       "      <td>ws_item_sk</td>\n",
       "      <td>Uniform(0,18000)</td>\n",
       "      <td>18000</td>\n",
       "    </tr>\n",
       "    <tr>\n",
       "      <th>14</th>\n",
       "      <td>sr_customer_sk</td>\n",
       "      <td>Uniform(0,1920800)</td>\n",
       "      <td>1920800</td>\n",
       "    </tr>\n",
       "    <tr>\n",
       "      <th>15</th>\n",
       "      <td>ss_customer_sk</td>\n",
       "      <td>Uniform(0,1920800)</td>\n",
       "      <td>1920800</td>\n",
       "    </tr>\n",
       "    <tr>\n",
       "      <th>16</th>\n",
       "      <td>wr_refunded_customer_sk</td>\n",
       "      <td>Uniform(0,1920800)</td>\n",
       "      <td>1920800</td>\n",
       "    </tr>\n",
       "    <tr>\n",
       "      <th>17</th>\n",
       "      <td>wr_returning_customer_sk</td>\n",
       "      <td>Uniform(0,1920800)</td>\n",
       "      <td>1920800</td>\n",
       "    </tr>\n",
       "    <tr>\n",
       "      <th>18</th>\n",
       "      <td>ws_bill_customer_sk</td>\n",
       "      <td>Uniform(0,1920800)</td>\n",
       "      <td>1920800</td>\n",
       "    </tr>\n",
       "    <tr>\n",
       "      <th>19</th>\n",
       "      <td>ws_ship_customer_sk</td>\n",
       "      <td>Uniform(0,1920800)</td>\n",
       "      <td>1920800</td>\n",
       "    </tr>\n",
       "    <tr>\n",
       "      <th>20</th>\n",
       "      <td>cs_bill_cdemo_sk</td>\n",
       "      <td>Uniform(0,1920800)</td>\n",
       "      <td>1920800</td>\n",
       "    </tr>\n",
       "    <tr>\n",
       "      <th>21</th>\n",
       "      <td>cs_bill_customer_sk</td>\n",
       "      <td>Uniform(0,1920800)</td>\n",
       "      <td>1920800</td>\n",
       "    </tr>\n",
       "    <tr>\n",
       "      <th>22</th>\n",
       "      <td>cs_ship_cdemo_sk</td>\n",
       "      <td>Uniform(0,1920800)</td>\n",
       "      <td>1920800</td>\n",
       "    </tr>\n",
       "    <tr>\n",
       "      <th>23</th>\n",
       "      <td>cs_ship_customer_sk</td>\n",
       "      <td>Uniform(0,1920800)</td>\n",
       "      <td>1920800</td>\n",
       "    </tr>\n",
       "    <tr>\n",
       "      <th>24</th>\n",
       "      <td>sr_cdemo_sk</td>\n",
       "      <td>Uniform(0,1920800)</td>\n",
       "      <td>1920800</td>\n",
       "    </tr>\n",
       "    <tr>\n",
       "      <th>25</th>\n",
       "      <td>ss_cdemo_sk</td>\n",
       "      <td>Uniform(0,1920800)</td>\n",
       "      <td>1920800</td>\n",
       "    </tr>\n",
       "    <tr>\n",
       "      <th>26</th>\n",
       "      <td>wr_refunded_cdemo_sk</td>\n",
       "      <td>Uniform(0,1920800)</td>\n",
       "      <td>1920800</td>\n",
       "    </tr>\n",
       "    <tr>\n",
       "      <th>27</th>\n",
       "      <td>wr_returning_cdemo_sk</td>\n",
       "      <td>Uniform(0,1920800)</td>\n",
       "      <td>1920800</td>\n",
       "    </tr>\n",
       "    <tr>\n",
       "      <th>28</th>\n",
       "      <td>ws_bill_cdemo_sk</td>\n",
       "      <td>Uniform(0,1920800)</td>\n",
       "      <td>1920800</td>\n",
       "    </tr>\n",
       "    <tr>\n",
       "      <th>29</th>\n",
       "      <td>ws_ship_cdemo_sk</td>\n",
       "      <td>Uniform(0,1920800)</td>\n",
       "      <td>1920800</td>\n",
       "    </tr>\n",
       "    <tr>\n",
       "      <th>30</th>\n",
       "      <td>cs_bill_addr_sk</td>\n",
       "      <td>Uniform(0,50000)</td>\n",
       "      <td>50000</td>\n",
       "    </tr>\n",
       "    <tr>\n",
       "      <th>31</th>\n",
       "      <td>cs_ship_addr_sk</td>\n",
       "      <td>Uniform(0,50000)</td>\n",
       "      <td>50000</td>\n",
       "    </tr>\n",
       "    <tr>\n",
       "      <th>32</th>\n",
       "      <td>sr_addr_sk</td>\n",
       "      <td>Uniform(0,50000)</td>\n",
       "      <td>50000</td>\n",
       "    </tr>\n",
       "    <tr>\n",
       "      <th>33</th>\n",
       "      <td>ss_addr_sk</td>\n",
       "      <td>Uniform(0,50000)</td>\n",
       "      <td>50000</td>\n",
       "    </tr>\n",
       "    <tr>\n",
       "      <th>34</th>\n",
       "      <td>wr_refunded_addr_sk</td>\n",
       "      <td>Uniform(0,50000)</td>\n",
       "      <td>50000</td>\n",
       "    </tr>\n",
       "    <tr>\n",
       "      <th>35</th>\n",
       "      <td>wr_returning_addr_sk</td>\n",
       "      <td>Uniform(0,50000)</td>\n",
       "      <td>50000</td>\n",
       "    </tr>\n",
       "    <tr>\n",
       "      <th>36</th>\n",
       "      <td>ws_bill_addr_sk</td>\n",
       "      <td>Uniform(0,50000)</td>\n",
       "      <td>50000</td>\n",
       "    </tr>\n",
       "    <tr>\n",
       "      <th>37</th>\n",
       "      <td>ws_ship_addr_sk</td>\n",
       "      <td>Uniform(0,50000)</td>\n",
       "      <td>50000</td>\n",
       "    </tr>\n",
       "    <tr>\n",
       "      <th>38</th>\n",
       "      <td>wr_web_page_sk</td>\n",
       "      <td>Uniform(0,60)</td>\n",
       "      <td>60</td>\n",
       "    </tr>\n",
       "    <tr>\n",
       "      <th>39</th>\n",
       "      <td>ws_web_page_sk</td>\n",
       "      <td>Uniform(0,60)</td>\n",
       "      <td>60</td>\n",
       "    </tr>\n",
       "    <tr>\n",
       "      <th>40</th>\n",
       "      <td>ws_web_site_sk</td>\n",
       "      <td>Uniform(0,30)</td>\n",
       "      <td>30</td>\n",
       "    </tr>\n",
       "    <tr>\n",
       "      <th>41</th>\n",
       "      <td>cs_warehouse_sk</td>\n",
       "      <td>Uniform(0,5)</td>\n",
       "      <td>5</td>\n",
       "    </tr>\n",
       "    <tr>\n",
       "      <th>42</th>\n",
       "      <td>ws_warehouse_sk</td>\n",
       "      <td>Uniform(0,5)</td>\n",
       "      <td>5</td>\n",
       "    </tr>\n",
       "  </tbody>\n",
       "</table>\n",
       "</div>"
      ],
      "text/plain": [
       "                      column               value   result\n",
       "0         cs_catalog_page_sk    Uniform(0,11718)    11718\n",
       "1          cs_call_center_sk        Uniform(0,6)        6\n",
       "2                sr_store_sk       Uniform(0,12)       12\n",
       "3                ss_store_sk       Uniform(0,12)       12\n",
       "4                cs_promo_sk      Uniform(0,300)      300\n",
       "5                ss_promo_sk      Uniform(0,300)      300\n",
       "6                ws_promo_sk      Uniform(0,300)      300\n",
       "7               sr_reason_sk       Uniform(0,35)       35\n",
       "8               wr_reason_sk       Uniform(0,35)       35\n",
       "9                 cs_item_sk    Uniform(0,18000)    18000\n",
       "10                sr_item_sk    Uniform(0,18000)    18000\n",
       "11                ss_item_sk    Uniform(0,18000)    18000\n",
       "12                wr_item_sk    Uniform(0,18000)    18000\n",
       "13                ws_item_sk    Uniform(0,18000)    18000\n",
       "14            sr_customer_sk  Uniform(0,1920800)  1920800\n",
       "15            ss_customer_sk  Uniform(0,1920800)  1920800\n",
       "16   wr_refunded_customer_sk  Uniform(0,1920800)  1920800\n",
       "17  wr_returning_customer_sk  Uniform(0,1920800)  1920800\n",
       "18       ws_bill_customer_sk  Uniform(0,1920800)  1920800\n",
       "19       ws_ship_customer_sk  Uniform(0,1920800)  1920800\n",
       "20          cs_bill_cdemo_sk  Uniform(0,1920800)  1920800\n",
       "21       cs_bill_customer_sk  Uniform(0,1920800)  1920800\n",
       "22          cs_ship_cdemo_sk  Uniform(0,1920800)  1920800\n",
       "23       cs_ship_customer_sk  Uniform(0,1920800)  1920800\n",
       "24               sr_cdemo_sk  Uniform(0,1920800)  1920800\n",
       "25               ss_cdemo_sk  Uniform(0,1920800)  1920800\n",
       "26      wr_refunded_cdemo_sk  Uniform(0,1920800)  1920800\n",
       "27     wr_returning_cdemo_sk  Uniform(0,1920800)  1920800\n",
       "28          ws_bill_cdemo_sk  Uniform(0,1920800)  1920800\n",
       "29          ws_ship_cdemo_sk  Uniform(0,1920800)  1920800\n",
       "30           cs_bill_addr_sk    Uniform(0,50000)    50000\n",
       "31           cs_ship_addr_sk    Uniform(0,50000)    50000\n",
       "32                sr_addr_sk    Uniform(0,50000)    50000\n",
       "33                ss_addr_sk    Uniform(0,50000)    50000\n",
       "34       wr_refunded_addr_sk    Uniform(0,50000)    50000\n",
       "35      wr_returning_addr_sk    Uniform(0,50000)    50000\n",
       "36           ws_bill_addr_sk    Uniform(0,50000)    50000\n",
       "37           ws_ship_addr_sk    Uniform(0,50000)    50000\n",
       "38            wr_web_page_sk       Uniform(0,60)       60\n",
       "39            ws_web_page_sk       Uniform(0,60)       60\n",
       "40            ws_web_site_sk       Uniform(0,30)       30\n",
       "41           cs_warehouse_sk        Uniform(0,5)        5\n",
       "42           ws_warehouse_sk        Uniform(0,5)        5"
      ]
     },
     "execution_count": 20,
     "metadata": {},
     "output_type": "execute_result"
    }
   ],
   "source": [
    "# queries.append([result[0],column,variable])\n",
    "i=0\n",
    "import yaml\n",
    "import numpy as np \n",
    "import pandas as pd\n",
    "new_file=[]\n",
    "with open(r'workload-nosqlbench.template.yaml') as file:\n",
    "    # The FullLoader parameter handles the conversion from YAML\n",
    "    # scalar values to Python the dictionary format\n",
    "    workload = yaml.load(file, Loader=yaml.FullLoader)\n",
    "import pandasql as psql\n",
    "  \n",
    "columns = workload[\"bindings\"]\n",
    "\n",
    "df_values = pd.DataFrame(queries,columns=['result',\"column\",\"variable\"])\n",
    "df = pd.DataFrame(columns.items(),columns=[\"column\",\"value\"])\n",
    "df['parsed'] = df.loc[df['value'].apply(lambda st: st[st.find(\"<\")+2:st.find(\">\")]).isin(df_values.variable)== True,df['parsed']] = df['value'].apply(lambda st: st[st.find(\"<\")+2:st.find(\">\")])\n",
    "df = df[[\"column\",\"value\",\"parsed\"]]\n",
    "df['column'] = df['column'].astype('string')\n",
    "df_values['column'] = df_values['column'].astype('string')\n",
    "\n",
    "new_df = psql.sqldf(\"select distinct df.column,df.value,cast(df_values.result as text) as result from df_values  join df on cast(df_values.column as string)= cast(df.column as string) and parsed=variable\") \n",
    "\n",
    "pat = re.compile(r\"<<.*?>>\")\n",
    "\n",
    "new_df[\"value\"] = new_df[[\"value\",\"result\"]].apply(lambda x: pat.sub(repl=x[1],string=x[0]),axis=1)\n",
    "\n",
    "new_df\n"
   ]
  },
  {
   "cell_type": "markdown",
   "id": "ab15a52a-b45d-4d30-be9f-c8bfaf88acb8",
   "metadata": {},
   "source": [
    "#### Replace values from the template into the new workload yaml"
   ]
  },
  {
   "cell_type": "code",
   "execution_count": 21,
   "id": "a410104d",
   "metadata": {
    "tags": []
   },
   "outputs": [],
   "source": [
    "import ruamel.yaml\n",
    "import sys\n",
    "yaml = ruamel.yaml.YAML()\n",
    "import re\n",
    "\n",
    "\n",
    "# #new_df.info()\n",
    "# #print(type(new_df))\n",
    "file = 'workload-nosqlbench.template.yaml'\n",
    "    # The FullLoader parameter handles the conversion from YAML\n",
    "    # scalar values to Python the dictionary format\n",
    "    #workload = yaml.load(file)\n",
    "config, ind, bsi = ruamel.yaml.util.load_yaml_guess_indent(open(file))\n",
    "\n",
    "#columns_pop = config['bindings']\n",
    "# instances[0]['host'] = '1.2.3.4'\n",
    "# instances[0]['username'] = 'Username'\n",
    "# instances[0]['password'] = 'Password'\n",
    "\n",
    "yaml = ruamel.yaml.YAML()\n",
    "yaml.indent(mapping=ind, sequence=ind, offset=bsi) \n",
    "with open('output.yaml', 'w') as fp:\n",
    "    yaml.dump(config, fp)\n",
    "    \n",
    "\n",
    "for key,value in config['bindings'].items():\n",
    "    for column,new_value,result in new_df.values:\n",
    "        #print(column,new_value)\n",
    "        if key==column:\n",
    "\n",
    "            config['bindings'][key] = new_value\n",
    "\n",
    "\n",
    "\n",
    "        \n",
    "        \n"
   ]
  },
  {
   "cell_type": "code",
   "execution_count": 22,
   "id": "0737b0c9-355f-40fb-9fa8-8edadad19722",
   "metadata": {},
   "outputs": [],
   "source": [
    "with open('workload-nosqlbench-schema-write.yaml', 'w') as file:\n",
    "    yaml.dump(config, file)"
   ]
  },
  {
   "cell_type": "markdown",
   "id": "3cda15cf",
   "metadata": {},
   "source": [
    "## Using  NoSQLBench against ScyllaDB"
   ]
  },
  {
   "cell_type": "markdown",
   "id": "2ab77282",
   "metadata": {},
   "source": [
    "cycles - standard, however the cql activity type will default this to however many statements are included in the current activity, after tag filtering, etc."
   ]
  },
  {
   "cell_type": "markdown",
   "id": "d737856c",
   "metadata": {},
   "source": [
    "pooling default: none - Applies the connection pooling options to the policy. Examples:\n",
    "\n",
    "    pooling=4:10 keep between 4 and 10 connections to LOCAL hosts\n",
    "    pooling=4:10,2:5 keep 4-10 connections to LOCAL hosts and 2-5 to REMOTE\n",
    "    pooling=4:10:2000 keep between 4-10 connections to LOCAL hosts with up to 2000 requests per connection\n",
    "    pooling=5:10:2000,2:4:1000 keep between 5-10 connections to LOCAL hosts with up to 2000 requests per connection, and 2-4 connection to REMOTE hosts with up to 1000 requests per connection\n",
    "    \n",
    "    \n",
    "Additionally, you may provide the following options on pooling. Any of these that are provided must appear in this order: ,heartbeat_interval_s:n,idle_timeout_s:n,pool_timeout_ms:n, so a full example with all options set would appear as:\n",
    "\n",
    "       pooling=5:10:2000,2:4:1000,heartbeat_interval_s:30,idle_timeout_s:120,pool_timeout_ms:5"
   ]
  },
  {
   "cell_type": "markdown",
   "id": "3420940f",
   "metadata": {},
   "source": [
    "lbp - configures the load balancing policies for the Java driver. With this parameter, you can configure nested load balancing policies in short-hand form.\n",
    "\n",
    "The policies available are documented in detail under the help topic cql-loadbalancing. See that guide if you need more than the examples below.\n",
    "\n",
    "Examples:\n",
    "    \n",
    "\n",
    "        lbp=LAP(retry_period=3,scale=10) - Latency aware policy with retry period of 3 seconds. (Seconds is the default time unit, unless _ms parameter is used) and scale 10.\n",
    "        lbp=LAP(rp=3,s=10) - Same as above, using the equivalent but terser form.\n",
    "        lbp=LAP(rp_ms=3000,s_ms=10000) - Same as above, with milliseconds instead of seconds.\n",
    "        loadbalancing=LAP(s=10),TAP() - Latency aware policy, followed by token aware policy."
   ]
  },
  {
   "cell_type": "markdown",
   "id": "e317623f",
   "metadata": {},
   "source": [
    "#### Start Schema "
   ]
  },
  {
   "cell_type": "code",
   "execution_count": 34,
   "id": "22c2e623",
   "metadata": {},
   "outputs": [],
   "source": [
    "!./nb run driver=cqld3 \\\n",
    "    host=172.19.0.2\\\n",
    "    workload=workload-nosqlbench-schema-write.yaml\\\n",
    "    tags=phase:schema \\\n",
    "    cycles=11 \\\n",
    "    loadbalancing='TAP()'\n"
   ]
  },
  {
   "cell_type": "markdown",
   "id": "38898e58",
   "metadata": {},
   "source": [
    "#### Start Write Workload"
   ]
  },
  {
   "cell_type": "code",
   "execution_count": 29,
   "id": "6f92436d",
   "metadata": {
    "scrolled": true,
    "tags": []
   },
   "outputs": [
    {
     "name": "stdout",
     "output_type": "stream",
     "text": [
      "workload-nosqlbench-schema-write.yaml: 7.11%/Running (details: min=0 cycle=213216 max=3000000)\n",
      "workload-nosqlbench-schema-write.yaml: 18.32%/Running (details: min=0 cycle=549664 max=3000000)\n",
      "workload-nosqlbench-schema-write.yaml: 28.60%/Running (details: min=0 cycle=858016 max=3000000)\n",
      "workload-nosqlbench-schema-write.yaml: 38.36%/Running (details: min=0 cycle=1150848 max=3000000)\n",
      "workload-nosqlbench-schema-write.yaml: 47.32%/Running (details: min=0 cycle=1419488 max=3000000)\n",
      "workload-nosqlbench-schema-write.yaml: 55.93%/Running (details: min=0 cycle=1677952 max=3000000)\n",
      "workload-nosqlbench-schema-write.yaml: 64.30%/Running (details: min=0 cycle=1928992 max=3000000)\n",
      "workload-nosqlbench-schema-write.yaml: 70.75%/Running (details: min=0 cycle=2122368 max=3000000)\n",
      "workload-nosqlbench-schema-write.yaml: 77.87%/Running (details: min=0 cycle=2336096 max=3000000)\n",
      "workload-nosqlbench-schema-write.yaml: 85.06%/Running (details: min=0 cycle=2551744 max=3000000)\n",
      "^C\n",
      "  103208 WARN  [Thread-1] SCENARIO     Scenario was interrupted by process exit, shutting down\n"
     ]
    }
   ],
   "source": [
    "!./nb run driver=cqld3 \\\n",
    "        host=172.19.0.2\\\n",
    "        workload=workload-nosqlbench-schema-write.yaml\\\n",
    "        threads=auto \\\n",
    "        cycles=3000000 \\\n",
    "        async=128  \\\n",
    "        tags=phase:rampup \\\n",
    "        --progress console:10s \\\n",
    "        loadbalancing='TAP()' pooling=8:16:10\n",
    "                        #start_connections:number_max_connections:ops per connection ## 2*shards:4*shards:5000"
   ]
  },
  {
   "cell_type": "markdown",
   "id": "78dd5a95-f59d-42b3-981c-1221e32f73be",
   "metadata": {},
   "source": [
    "#### Start Read Workload"
   ]
  },
  {
   "cell_type": "code",
   "execution_count": 35,
   "id": "7afd0e61",
   "metadata": {},
   "outputs": [
    {
     "name": "stdout",
     "output_type": "stream",
     "text": [
      "read-workload.yml: 20.69%/Running (details: min=0 cycle=620775 max=3000000)\n",
      "read-workload.yml: 53.05%/Running (details: min=0 cycle=1591390 max=3000000)\n",
      "read-workload.yml: 84.74%/Running (details: min=0 cycle=2542225 max=3000000)\n"
     ]
    }
   ],
   "source": [
    "!./nb run driver=cqld3 \\\n",
    "        host=172.19.0.2\\\n",
    "        workload=read-workload.yml\\\n",
    "        threads=auto \\\n",
    "        cycles=3000000 \\\n",
    "        async=258  \\\n",
    "        tags=phase:main \\\n",
    "        --progress console:10s \\\n",
    "        loadbalancing='TAP()' pooling=8:16:1000,8:16:1000"
   ]
  },
  {
   "cell_type": "markdown",
   "id": "1080f296-72a5-444a-b95c-fdee9aaeee06",
   "metadata": {},
   "source": [
    "#### Start Mix Workload"
   ]
  },
  {
   "cell_type": "code",
   "execution_count": 36,
   "id": "51483231-1f2d-451d-8b34-a83964a473a5",
   "metadata": {},
   "outputs": [
    {
     "name": "stdout",
     "output_type": "stream",
     "text": [
      "workload-nosqlbench-schema-write.yaml: 9.36%/Running (details: min=0 cycle=280690 max=3000000)\n",
      "workload-nosqlbench-schema-write.yaml: 24.05%/Running (details: min=0 cycle=721440 max=3000000)\n",
      "workload-nosqlbench-schema-write.yaml: 38.77%/Running (details: min=0 cycle=1163050 max=3000000)\n",
      "workload-nosqlbench-schema-write.yaml: 52.55%/Running (details: min=0 cycle=1576450 max=3000000)\n",
      "workload-nosqlbench-schema-write.yaml: 66.23%/Running (details: min=0 cycle=1986850 max=3000000)\n",
      "workload-nosqlbench-schema-write.yaml: 79.24%/Running (details: min=0 cycle=2377200 max=3000000)\n",
      "workload-nosqlbench-schema-write.yaml: 91.95%/Running (details: min=0 cycle=2758400 max=3000000)\n",
      "11/30/21, 3:47:02 PM ===========================================================\n",
      "\n",
      "-- Counters --------------------------------------------------------------------\n",
      "workload-nosqlbench-schema-write.yaml.optracker_blocked\n",
      "             count = 2999868\n",
      "workload-nosqlbench-schema-write.yaml.pending_ops\n",
      "             count = 0\n",
      "\n",
      "-- Histograms ------------------------------------------------------------------\n",
      "workload-nosqlbench-schema-write.yaml.resultset-size\n",
      "             count = 3000000\n",
      "workload-nosqlbench-schema-write.yaml.skipped-tokens\n",
      "             count = 0\n",
      "workload-nosqlbench-schema-write.yaml.tries\n",
      "             count = 3000000\n",
      "\n",
      "-- Meters ----------------------------------------------------------------------\n",
      "workload-nosqlbench-schema-write.yaml.rows\n",
      "             count = 220\n",
      "         mean rate = 2.96 events/second\n",
      "     1-minute rate = 2.25 events/second\n",
      "     5-minute rate = 0.60 events/second\n",
      "    15-minute rate = 0.21 events/second\n",
      "\n",
      "-- Timers ----------------------------------------------------------------------\n",
      "workload-nosqlbench-schema-write.yaml.bind\n",
      "             count = 3000000\n",
      "         mean rate = 40424.07 calls/second\n",
      "     1-minute rate = 38484.62 calls/second\n",
      "     5-minute rate = 35794.93 calls/second\n",
      "    15-minute rate = 34978.26 calls/second\n",
      "workload-nosqlbench-schema-write.yaml.cycles.servicetime\n",
      "             count = 3000000\n",
      "         mean rate = 40424.81 calls/second\n",
      "     1-minute rate = 38486.60 calls/second\n",
      "     5-minute rate = 35800.31 calls/second\n",
      "    15-minute rate = 34984.74 calls/second\n",
      "workload-nosqlbench-schema-write.yaml.execute\n",
      "             count = 3000000\n",
      "         mean rate = 40422.69 calls/second\n",
      "     1-minute rate = 38485.16 calls/second\n",
      "     5-minute rate = 35796.53 calls/second\n",
      "    15-minute rate = 34980.12 calls/second\n",
      "workload-nosqlbench-schema-write.yaml.pages\n",
      "             count = 0\n",
      "         mean rate = 0.00 calls/second\n",
      "     1-minute rate = 0.00 calls/second\n",
      "     5-minute rate = 0.00 calls/second\n",
      "    15-minute rate = 0.00 calls/second\n",
      "workload-nosqlbench-schema-write.yaml.read_input\n",
      "             count = 300120\n",
      "         mean rate = 4043.69 calls/second\n",
      "     1-minute rate = 3852.63 calls/second\n",
      "     5-minute rate = 3589.41 calls/second\n",
      "    15-minute rate = 3509.29 calls/second\n",
      "workload-nosqlbench-schema-write.yaml.result\n",
      "             count = 3000000\n",
      "         mean rate = 40420.99 calls/second\n",
      "     1-minute rate = 38477.92 calls/second\n",
      "     5-minute rate = 35779.44 calls/second\n",
      "    15-minute rate = 34960.39 calls/second\n",
      "workload-nosqlbench-schema-write.yaml.result-success\n",
      "             count = 3000000\n",
      "         mean rate = 40420.44 calls/second\n",
      "     1-minute rate = 38478.45 calls/second\n",
      "     5-minute rate = 35780.42 calls/second\n",
      "    15-minute rate = 34961.51 calls/second\n",
      "workload-nosqlbench-schema-write.yaml.retry-delay\n",
      "             count = 0\n",
      "         mean rate = 0.00 calls/second\n",
      "     1-minute rate = 0.00 calls/second\n",
      "     5-minute rate = 0.00 calls/second\n",
      "    15-minute rate = 0.00 calls/second\n",
      "workload-nosqlbench-schema-write.yaml.strides.servicetime\n",
      "             count = 300000\n",
      "         mean rate = 4041.86 calls/second\n",
      "     1-minute rate = 3844.05 calls/second\n",
      "     5-minute rate = 3568.96 calls/second\n",
      "    15-minute rate = 3485.66 calls/second\n",
      "\n",
      "\n",
      "\n"
     ]
    }
   ],
   "source": [
    "!./nb run driver=cqld3 \\\n",
    "        host=172.19.0.2\\\n",
    "        workload=workload-nosqlbench-schema-write.yaml\\\n",
    "        threads=auto \\\n",
    "        cycles=3000000 \\\n",
    "        async=258  \\\n",
    "        tags=phase:main \\\n",
    "        --progress console:10s \\\n",
    "        loadbalancing='TAP()' pooling=8:16:10\n",
    "                        #start_connections:number_max_connections:ops per connection ## 2*shards:4*shards:5000"
   ]
  },
  {
   "cell_type": "code",
   "execution_count": null,
   "id": "e4ebfe75-d177-486b-bc71-ec73f8d28896",
   "metadata": {},
   "outputs": [],
   "source": []
  }
 ],
 "metadata": {
  "kernelspec": {
   "display_name": "Python 3 (ipykernel)",
   "language": "python",
   "name": "python3"
  },
  "language_info": {
   "codemirror_mode": {
    "name": "ipython",
    "version": 3
   },
   "file_extension": ".py",
   "mimetype": "text/x-python",
   "name": "python",
   "nbconvert_exporter": "python",
   "pygments_lexer": "ipython3",
   "version": "3.9.7"
  }
 },
 "nbformat": 4,
 "nbformat_minor": 5
}
